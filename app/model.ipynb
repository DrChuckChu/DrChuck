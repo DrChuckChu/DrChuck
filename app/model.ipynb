{
 "cells": [
  {
   "cell_type": "code",
   "execution_count": 1,
   "metadata": {},
   "outputs": [],
   "source": [
    "import numpy as np\n",
    "import pandas as pd\n",
    "import matplotlib.pyplot as plt"
   ]
  },
  {
   "cell_type": "code",
   "execution_count": 2,
   "metadata": {},
   "outputs": [
    {
     "data": {
      "text/html": [
       "<div>\n",
       "<style scoped>\n",
       "    .dataframe tbody tr th:only-of-type {\n",
       "        vertical-align: middle;\n",
       "    }\n",
       "\n",
       "    .dataframe tbody tr th {\n",
       "        vertical-align: top;\n",
       "    }\n",
       "\n",
       "    .dataframe thead th {\n",
       "        text-align: right;\n",
       "    }\n",
       "</style>\n",
       "<table border=\"1\" class=\"dataframe\">\n",
       "  <thead>\n",
       "    <tr style=\"text-align: right;\">\n",
       "      <th></th>\n",
       "      <th>0</th>\n",
       "      <th>1</th>\n",
       "      <th>2</th>\n",
       "      <th>3</th>\n",
       "      <th>4</th>\n",
       "      <th>5</th>\n",
       "    </tr>\n",
       "  </thead>\n",
       "  <tbody>\n",
       "    <tr>\n",
       "      <th>0</th>\n",
       "      <td>2.602562</td>\n",
       "      <td>2.563770</td>\n",
       "      <td>37.098059</td>\n",
       "      <td>185.083765</td>\n",
       "      <td>M</td>\n",
       "      <td>Bad</td>\n",
       "    </tr>\n",
       "    <tr>\n",
       "      <th>1</th>\n",
       "      <td>3.057403</td>\n",
       "      <td>5.110418</td>\n",
       "      <td>74.813240</td>\n",
       "      <td>190.168347</td>\n",
       "      <td>M</td>\n",
       "      <td>Bad</td>\n",
       "    </tr>\n",
       "    <tr>\n",
       "      <th>2</th>\n",
       "      <td>2.571436</td>\n",
       "      <td>2.770216</td>\n",
       "      <td>60.483945</td>\n",
       "      <td>192.010416</td>\n",
       "      <td>M</td>\n",
       "      <td>Bad</td>\n",
       "    </tr>\n",
       "    <tr>\n",
       "      <th>3</th>\n",
       "      <td>3.703299</td>\n",
       "      <td>6.709837</td>\n",
       "      <td>47.163448</td>\n",
       "      <td>191.049732</td>\n",
       "      <td>M</td>\n",
       "      <td>Bad</td>\n",
       "    </tr>\n",
       "    <tr>\n",
       "      <th>4</th>\n",
       "      <td>4.334830</td>\n",
       "      <td>3.814075</td>\n",
       "      <td>66.392621</td>\n",
       "      <td>184.219977</td>\n",
       "      <td>M</td>\n",
       "      <td>Bad</td>\n",
       "    </tr>\n",
       "    <tr>\n",
       "      <th>...</th>\n",
       "      <td>...</td>\n",
       "      <td>...</td>\n",
       "      <td>...</td>\n",
       "      <td>...</td>\n",
       "      <td>...</td>\n",
       "      <td>...</td>\n",
       "    </tr>\n",
       "    <tr>\n",
       "      <th>9020</th>\n",
       "      <td>2.445309</td>\n",
       "      <td>1.606003</td>\n",
       "      <td>1.208863</td>\n",
       "      <td>177.634456</td>\n",
       "      <td>M</td>\n",
       "      <td>Turtle</td>\n",
       "    </tr>\n",
       "    <tr>\n",
       "      <th>9021</th>\n",
       "      <td>4.492581</td>\n",
       "      <td>0.550904</td>\n",
       "      <td>3.183047</td>\n",
       "      <td>178.549713</td>\n",
       "      <td>M</td>\n",
       "      <td>Turtle</td>\n",
       "    </tr>\n",
       "    <tr>\n",
       "      <th>9022</th>\n",
       "      <td>2.882963</td>\n",
       "      <td>0.556252</td>\n",
       "      <td>1.638212</td>\n",
       "      <td>179.546651</td>\n",
       "      <td>M</td>\n",
       "      <td>Turtle</td>\n",
       "    </tr>\n",
       "    <tr>\n",
       "      <th>9023</th>\n",
       "      <td>2.480577</td>\n",
       "      <td>0.545658</td>\n",
       "      <td>4.890720</td>\n",
       "      <td>178.549713</td>\n",
       "      <td>M</td>\n",
       "      <td>Turtle</td>\n",
       "    </tr>\n",
       "    <tr>\n",
       "      <th>9024</th>\n",
       "      <td>1.231977</td>\n",
       "      <td>2.181641</td>\n",
       "      <td>4.429083</td>\n",
       "      <td>178.630904</td>\n",
       "      <td>M</td>\n",
       "      <td>Turtle</td>\n",
       "    </tr>\n",
       "  </tbody>\n",
       "</table>\n",
       "<p>9025 rows × 6 columns</p>\n",
       "</div>"
      ],
      "text/plain": [
       "             0         1          2           3  4       5\n",
       "0     2.602562  2.563770  37.098059  185.083765  M     Bad\n",
       "1     3.057403  5.110418  74.813240  190.168347  M     Bad\n",
       "2     2.571436  2.770216  60.483945  192.010416  M     Bad\n",
       "3     3.703299  6.709837  47.163448  191.049732  M     Bad\n",
       "4     4.334830  3.814075  66.392621  184.219977  M     Bad\n",
       "...        ...       ...        ...         ... ..     ...\n",
       "9020  2.445309  1.606003   1.208863  177.634456  M  Turtle\n",
       "9021  4.492581  0.550904   3.183047  178.549713  M  Turtle\n",
       "9022  2.882963  0.556252   1.638212  179.546651  M  Turtle\n",
       "9023  2.480577  0.545658   4.890720  178.549713  M  Turtle\n",
       "9024  1.231977  2.181641   4.429083  178.630904  M  Turtle\n",
       "\n",
       "[9025 rows x 6 columns]"
      ]
     },
     "execution_count": 2,
     "metadata": {},
     "output_type": "execute_result"
    }
   ],
   "source": [
    "df = pd.read_csv('../data/dataSet.csv', header=None)\n",
    "df"
   ]
  },
  {
   "cell_type": "code",
   "execution_count": 3,
   "metadata": {},
   "outputs": [
    {
     "data": {
      "text/html": [
       "<div>\n",
       "<style scoped>\n",
       "    .dataframe tbody tr th:only-of-type {\n",
       "        vertical-align: middle;\n",
       "    }\n",
       "\n",
       "    .dataframe tbody tr th {\n",
       "        vertical-align: top;\n",
       "    }\n",
       "\n",
       "    .dataframe thead th {\n",
       "        text-align: right;\n",
       "    }\n",
       "</style>\n",
       "<table border=\"1\" class=\"dataframe\">\n",
       "  <thead>\n",
       "    <tr style=\"text-align: right;\">\n",
       "      <th></th>\n",
       "      <th>shoulder_angle_lst</th>\n",
       "      <th>ear_angle_lst</th>\n",
       "      <th>turtle_dis_lst</th>\n",
       "      <th>face_dis_lst</th>\n",
       "      <th>gender</th>\n",
       "      <th>class</th>\n",
       "    </tr>\n",
       "  </thead>\n",
       "  <tbody>\n",
       "    <tr>\n",
       "      <th>0</th>\n",
       "      <td>2.602562</td>\n",
       "      <td>2.563770</td>\n",
       "      <td>37.098059</td>\n",
       "      <td>185.083765</td>\n",
       "      <td>M</td>\n",
       "      <td>Bad</td>\n",
       "    </tr>\n",
       "    <tr>\n",
       "      <th>1</th>\n",
       "      <td>3.057403</td>\n",
       "      <td>5.110418</td>\n",
       "      <td>74.813240</td>\n",
       "      <td>190.168347</td>\n",
       "      <td>M</td>\n",
       "      <td>Bad</td>\n",
       "    </tr>\n",
       "    <tr>\n",
       "      <th>2</th>\n",
       "      <td>2.571436</td>\n",
       "      <td>2.770216</td>\n",
       "      <td>60.483945</td>\n",
       "      <td>192.010416</td>\n",
       "      <td>M</td>\n",
       "      <td>Bad</td>\n",
       "    </tr>\n",
       "    <tr>\n",
       "      <th>3</th>\n",
       "      <td>3.703299</td>\n",
       "      <td>6.709837</td>\n",
       "      <td>47.163448</td>\n",
       "      <td>191.049732</td>\n",
       "      <td>M</td>\n",
       "      <td>Bad</td>\n",
       "    </tr>\n",
       "    <tr>\n",
       "      <th>4</th>\n",
       "      <td>4.334830</td>\n",
       "      <td>3.814075</td>\n",
       "      <td>66.392621</td>\n",
       "      <td>184.219977</td>\n",
       "      <td>M</td>\n",
       "      <td>Bad</td>\n",
       "    </tr>\n",
       "    <tr>\n",
       "      <th>...</th>\n",
       "      <td>...</td>\n",
       "      <td>...</td>\n",
       "      <td>...</td>\n",
       "      <td>...</td>\n",
       "      <td>...</td>\n",
       "      <td>...</td>\n",
       "    </tr>\n",
       "    <tr>\n",
       "      <th>9020</th>\n",
       "      <td>2.445309</td>\n",
       "      <td>1.606003</td>\n",
       "      <td>1.208863</td>\n",
       "      <td>177.634456</td>\n",
       "      <td>M</td>\n",
       "      <td>Turtle</td>\n",
       "    </tr>\n",
       "    <tr>\n",
       "      <th>9021</th>\n",
       "      <td>4.492581</td>\n",
       "      <td>0.550904</td>\n",
       "      <td>3.183047</td>\n",
       "      <td>178.549713</td>\n",
       "      <td>M</td>\n",
       "      <td>Turtle</td>\n",
       "    </tr>\n",
       "    <tr>\n",
       "      <th>9022</th>\n",
       "      <td>2.882963</td>\n",
       "      <td>0.556252</td>\n",
       "      <td>1.638212</td>\n",
       "      <td>179.546651</td>\n",
       "      <td>M</td>\n",
       "      <td>Turtle</td>\n",
       "    </tr>\n",
       "    <tr>\n",
       "      <th>9023</th>\n",
       "      <td>2.480577</td>\n",
       "      <td>0.545658</td>\n",
       "      <td>4.890720</td>\n",
       "      <td>178.549713</td>\n",
       "      <td>M</td>\n",
       "      <td>Turtle</td>\n",
       "    </tr>\n",
       "    <tr>\n",
       "      <th>9024</th>\n",
       "      <td>1.231977</td>\n",
       "      <td>2.181641</td>\n",
       "      <td>4.429083</td>\n",
       "      <td>178.630904</td>\n",
       "      <td>M</td>\n",
       "      <td>Turtle</td>\n",
       "    </tr>\n",
       "  </tbody>\n",
       "</table>\n",
       "<p>9025 rows × 6 columns</p>\n",
       "</div>"
      ],
      "text/plain": [
       "      shoulder_angle_lst  ear_angle_lst  turtle_dis_lst  face_dis_lst gender  \\\n",
       "0               2.602562       2.563770       37.098059    185.083765      M   \n",
       "1               3.057403       5.110418       74.813240    190.168347      M   \n",
       "2               2.571436       2.770216       60.483945    192.010416      M   \n",
       "3               3.703299       6.709837       47.163448    191.049732      M   \n",
       "4               4.334830       3.814075       66.392621    184.219977      M   \n",
       "...                  ...            ...             ...           ...    ...   \n",
       "9020            2.445309       1.606003        1.208863    177.634456      M   \n",
       "9021            4.492581       0.550904        3.183047    178.549713      M   \n",
       "9022            2.882963       0.556252        1.638212    179.546651      M   \n",
       "9023            2.480577       0.545658        4.890720    178.549713      M   \n",
       "9024            1.231977       2.181641        4.429083    178.630904      M   \n",
       "\n",
       "       class  \n",
       "0        Bad  \n",
       "1        Bad  \n",
       "2        Bad  \n",
       "3        Bad  \n",
       "4        Bad  \n",
       "...      ...  \n",
       "9020  Turtle  \n",
       "9021  Turtle  \n",
       "9022  Turtle  \n",
       "9023  Turtle  \n",
       "9024  Turtle  \n",
       "\n",
       "[9025 rows x 6 columns]"
      ]
     },
     "execution_count": 3,
     "metadata": {},
     "output_type": "execute_result"
    }
   ],
   "source": [
    "df.columns=['shoulder_angle_lst', 'ear_angle_lst', 'turtle_dis_lst', 'face_dis_lst', 'gender', 'class']\n",
    "df"
   ]
  },
  {
   "cell_type": "code",
   "execution_count": 4,
   "metadata": {},
   "outputs": [
    {
     "name": "stdout",
     "output_type": "stream",
     "text": [
      "<class 'pandas.core.frame.DataFrame'>\n",
      "RangeIndex: 9025 entries, 0 to 9024\n",
      "Data columns (total 6 columns):\n",
      " #   Column              Non-Null Count  Dtype  \n",
      "---  ------              --------------  -----  \n",
      " 0   shoulder_angle_lst  9025 non-null   float64\n",
      " 1   ear_angle_lst       9025 non-null   float64\n",
      " 2   turtle_dis_lst      9025 non-null   float64\n",
      " 3   face_dis_lst        9025 non-null   float64\n",
      " 4   gender              9025 non-null   object \n",
      " 5   class               9025 non-null   object \n",
      "dtypes: float64(4), object(2)\n",
      "memory usage: 423.2+ KB\n"
     ]
    }
   ],
   "source": [
    "df.info()"
   ]
  },
  {
   "cell_type": "code",
   "execution_count": 5,
   "metadata": {},
   "outputs": [
    {
     "name": "stdout",
     "output_type": "stream",
     "text": [
      "<class 'pandas.core.frame.DataFrame'>\n",
      "RangeIndex: 9025 entries, 0 to 9024\n",
      "Data columns (total 5 columns):\n",
      " #   Column              Non-Null Count  Dtype  \n",
      "---  ------              --------------  -----  \n",
      " 0   shoulder_angle_lst  9025 non-null   float64\n",
      " 1   ear_angle_lst       9025 non-null   float64\n",
      " 2   turtle_dis_lst      9025 non-null   float64\n",
      " 3   face_dis_lst        9025 non-null   float64\n",
      " 4   gender              9025 non-null   object \n",
      "dtypes: float64(4), object(1)\n",
      "memory usage: 352.7+ KB\n",
      "<class 'pandas.core.series.Series'>\n",
      "RangeIndex: 9025 entries, 0 to 9024\n",
      "Series name: class\n",
      "Non-Null Count  Dtype \n",
      "--------------  ----- \n",
      "9025 non-null   object\n",
      "dtypes: object(1)\n",
      "memory usage: 70.6+ KB\n"
     ]
    },
    {
     "data": {
      "text/plain": [
       "(None, None)"
      ]
     },
     "execution_count": 5,
     "metadata": {},
     "output_type": "execute_result"
    }
   ],
   "source": [
    "X = df.iloc[:, :-1]\n",
    "y = df['class']\n",
    "X.info(), y.info()"
   ]
  },
  {
   "cell_type": "code",
   "execution_count": 6,
   "metadata": {},
   "outputs": [
    {
     "data": {
      "text/plain": [
       "((6317, 5), (2708, 5), (6317,), (2708,))"
      ]
     },
     "execution_count": 6,
     "metadata": {},
     "output_type": "execute_result"
    }
   ],
   "source": [
    "from sklearn.model_selection import train_test_split\n",
    "\n",
    "X_train, X_test, y_train, y_test = train_test_split(X, y, test_size=0.3, random_state=123)\n",
    "\n",
    "X_train.shape, X_test.shape, y_train.shape, y_test.shape"
   ]
  },
  {
   "cell_type": "code",
   "execution_count": 7,
   "metadata": {},
   "outputs": [],
   "source": [
    "# one-hot incoding\n",
    "X_train = pd.get_dummies(X_train)\n",
    "X_test = pd.get_dummies(X_test)"
   ]
  },
  {
   "cell_type": "code",
   "execution_count": 8,
   "metadata": {},
   "outputs": [
    {
     "data": {
      "text/plain": [
       "((6317, 6), (2708, 6), (6317,), (2708,))"
      ]
     },
     "execution_count": 8,
     "metadata": {},
     "output_type": "execute_result"
    }
   ],
   "source": [
    "X_train.shape, X_test.shape, y_train.shape, y_test.shape"
   ]
  },
  {
   "cell_type": "markdown",
   "metadata": {},
   "source": [
    "### 스케일링, 모델링"
   ]
  },
  {
   "cell_type": "code",
   "execution_count": 10,
   "metadata": {},
   "outputs": [],
   "source": [
    "from sklearn.pipeline import make_pipeline\n",
    "from sklearn.preprocessing import StandardScaler\n",
    "from sklearn.ensemble import RandomForestClassifier, AdaBoostClassifier\n",
    "from sklearn.linear_model import SGDClassifier\n",
    "from sklearn.metrics import *\n",
    "import pickle"
   ]
  },
  {
   "cell_type": "code",
   "execution_count": 11,
   "metadata": {},
   "outputs": [],
   "source": [
    "pipelines = {\n",
    "    'rf' : make_pipeline(StandardScaler(), RandomForestClassifier()),\n",
    "    'sgd' : make_pipeline(StandardScaler(), SGDClassifier()),\n",
    "    'ada' : make_pipeline(StandardScaler(), AdaBoostClassifier())\n",
    "}"
   ]
  },
  {
   "cell_type": "code",
   "execution_count": 12,
   "metadata": {},
   "outputs": [],
   "source": [
    "fit_model = {}\n",
    "for name, pipeline in pipelines.items():\n",
    "    model = pipeline.fit(X_train, y_train)\n",
    "    fit_model[name] = model"
   ]
  },
  {
   "cell_type": "code",
   "execution_count": 13,
   "metadata": {},
   "outputs": [],
   "source": [
    "rf_pred = fit_model['rf'].predict(X_test)\n",
    "sgd_pred = fit_model['sgd'].predict(X_test)\n",
    "ada_pred = fit_model['ada'].predict(X_test)"
   ]
  },
  {
   "cell_type": "code",
   "execution_count": 14,
   "metadata": {},
   "outputs": [
    {
     "name": "stdout",
     "output_type": "stream",
     "text": [
      "RandomForest\n",
      "               precision    recall  f1-score   support\n",
      "\n",
      "         Bad       0.94      0.90      0.92       934\n",
      "        Good       0.95      0.97      0.96       656\n",
      "      Turtle       0.93      0.95      0.94      1118\n",
      "\n",
      "    accuracy                           0.94      2708\n",
      "   macro avg       0.94      0.94      0.94      2708\n",
      "weighted avg       0.94      0.94      0.94      2708\n",
      " \n",
      " 0.9353766617429837\n"
     ]
    }
   ],
   "source": [
    "print('RandomForest\\n', classification_report(y_test, rf_pred), '\\n', accuracy_score(y_test, rf_pred))"
   ]
  },
  {
   "cell_type": "code",
   "execution_count": 15,
   "metadata": {},
   "outputs": [
    {
     "name": "stdout",
     "output_type": "stream",
     "text": [
      "SGD\n",
      "               precision    recall  f1-score   support\n",
      "\n",
      "         Bad       0.91      0.66      0.76       934\n",
      "        Good       0.77      0.89      0.82       656\n",
      "      Turtle       0.77      0.87      0.82      1118\n",
      "\n",
      "    accuracy                           0.80      2708\n",
      "   macro avg       0.82      0.81      0.80      2708\n",
      "weighted avg       0.82      0.80      0.80      2708\n",
      " \n",
      " 0.8028064992614475\n"
     ]
    }
   ],
   "source": [
    "print('SGD\\n', classification_report(y_test, sgd_pred), '\\n', accuracy_score(y_test, sgd_pred))"
   ]
  },
  {
   "cell_type": "code",
   "execution_count": 16,
   "metadata": {},
   "outputs": [
    {
     "name": "stdout",
     "output_type": "stream",
     "text": [
      "Ada\n",
      "               precision    recall  f1-score   support\n",
      "\n",
      "         Bad       0.86      0.79      0.82       934\n",
      "        Good       0.89      0.93      0.91       656\n",
      "      Turtle       0.83      0.87      0.85      1118\n",
      "\n",
      "    accuracy                           0.86      2708\n",
      "   macro avg       0.86      0.86      0.86      2708\n",
      "weighted avg       0.86      0.86      0.85      2708\n",
      " \n",
      " 0.8552437223042836\n"
     ]
    }
   ],
   "source": [
    "print('Ada\\n', classification_report(y_test, ada_pred), '\\n', accuracy_score(y_test, ada_pred))"
   ]
  },
  {
   "cell_type": "code",
   "execution_count": 17,
   "metadata": {},
   "outputs": [],
   "source": [
    "with open('../models/rf_model.pkl', 'wb') as f:\n",
    "    pickle.dump(fit_model['rf'], f)\n"
   ]
  },
  {
   "cell_type": "code",
   "execution_count": 18,
   "metadata": {},
   "outputs": [
    {
     "data": {
      "text/html": [
       "<div>\n",
       "<style scoped>\n",
       "    .dataframe tbody tr th:only-of-type {\n",
       "        vertical-align: middle;\n",
       "    }\n",
       "\n",
       "    .dataframe tbody tr th {\n",
       "        vertical-align: top;\n",
       "    }\n",
       "\n",
       "    .dataframe thead th {\n",
       "        text-align: right;\n",
       "    }\n",
       "</style>\n",
       "<table border=\"1\" class=\"dataframe\">\n",
       "  <thead>\n",
       "    <tr style=\"text-align: right;\">\n",
       "      <th></th>\n",
       "      <th>shoulder_angle_lst</th>\n",
       "      <th>ear_angle_lst</th>\n",
       "      <th>turtle_dis_lst</th>\n",
       "      <th>face_dis_lst</th>\n",
       "      <th>gender_F</th>\n",
       "      <th>gender_M</th>\n",
       "    </tr>\n",
       "  </thead>\n",
       "  <tbody>\n",
       "    <tr>\n",
       "      <th>7557</th>\n",
       "      <td>4.222230</td>\n",
       "      <td>1.005086</td>\n",
       "      <td>109.406958</td>\n",
       "      <td>162.111073</td>\n",
       "      <td>False</td>\n",
       "      <td>True</td>\n",
       "    </tr>\n",
       "    <tr>\n",
       "      <th>784</th>\n",
       "      <td>18.949788</td>\n",
       "      <td>31.607502</td>\n",
       "      <td>44.546128</td>\n",
       "      <td>158.795466</td>\n",
       "      <td>False</td>\n",
       "      <td>True</td>\n",
       "    </tr>\n",
       "    <tr>\n",
       "      <th>3850</th>\n",
       "      <td>0.926536</td>\n",
       "      <td>6.632515</td>\n",
       "      <td>79.156765</td>\n",
       "      <td>210.736803</td>\n",
       "      <td>False</td>\n",
       "      <td>True</td>\n",
       "    </tr>\n",
       "    <tr>\n",
       "      <th>6325</th>\n",
       "      <td>1.444126</td>\n",
       "      <td>7.037941</td>\n",
       "      <td>18.540328</td>\n",
       "      <td>119.519873</td>\n",
       "      <td>False</td>\n",
       "      <td>True</td>\n",
       "    </tr>\n",
       "    <tr>\n",
       "      <th>6724</th>\n",
       "      <td>1.027617</td>\n",
       "      <td>3.764035</td>\n",
       "      <td>33.591009</td>\n",
       "      <td>141.509717</td>\n",
       "      <td>False</td>\n",
       "      <td>True</td>\n",
       "    </tr>\n",
       "    <tr>\n",
       "      <th>...</th>\n",
       "      <td>...</td>\n",
       "      <td>...</td>\n",
       "      <td>...</td>\n",
       "      <td>...</td>\n",
       "      <td>...</td>\n",
       "      <td>...</td>\n",
       "    </tr>\n",
       "    <tr>\n",
       "      <th>3498</th>\n",
       "      <td>0.612766</td>\n",
       "      <td>2.108095</td>\n",
       "      <td>42.222184</td>\n",
       "      <td>231.311478</td>\n",
       "      <td>False</td>\n",
       "      <td>True</td>\n",
       "    </tr>\n",
       "    <tr>\n",
       "      <th>5730</th>\n",
       "      <td>1.959927</td>\n",
       "      <td>1.070824</td>\n",
       "      <td>48.173323</td>\n",
       "      <td>166.075284</td>\n",
       "      <td>False</td>\n",
       "      <td>True</td>\n",
       "    </tr>\n",
       "    <tr>\n",
       "      <th>6663</th>\n",
       "      <td>0.815543</td>\n",
       "      <td>4.044486</td>\n",
       "      <td>36.718700</td>\n",
       "      <td>167.191507</td>\n",
       "      <td>False</td>\n",
       "      <td>True</td>\n",
       "    </tr>\n",
       "    <tr>\n",
       "      <th>2674</th>\n",
       "      <td>1.468801</td>\n",
       "      <td>5.088260</td>\n",
       "      <td>21.864608</td>\n",
       "      <td>224.439301</td>\n",
       "      <td>True</td>\n",
       "      <td>False</td>\n",
       "    </tr>\n",
       "    <tr>\n",
       "      <th>1247</th>\n",
       "      <td>0.343084</td>\n",
       "      <td>4.219095</td>\n",
       "      <td>89.956471</td>\n",
       "      <td>195.478899</td>\n",
       "      <td>False</td>\n",
       "      <td>True</td>\n",
       "    </tr>\n",
       "  </tbody>\n",
       "</table>\n",
       "<p>2708 rows × 6 columns</p>\n",
       "</div>"
      ],
      "text/plain": [
       "      shoulder_angle_lst  ear_angle_lst  turtle_dis_lst  face_dis_lst  \\\n",
       "7557            4.222230       1.005086      109.406958    162.111073   \n",
       "784            18.949788      31.607502       44.546128    158.795466   \n",
       "3850            0.926536       6.632515       79.156765    210.736803   \n",
       "6325            1.444126       7.037941       18.540328    119.519873   \n",
       "6724            1.027617       3.764035       33.591009    141.509717   \n",
       "...                  ...            ...             ...           ...   \n",
       "3498            0.612766       2.108095       42.222184    231.311478   \n",
       "5730            1.959927       1.070824       48.173323    166.075284   \n",
       "6663            0.815543       4.044486       36.718700    167.191507   \n",
       "2674            1.468801       5.088260       21.864608    224.439301   \n",
       "1247            0.343084       4.219095       89.956471    195.478899   \n",
       "\n",
       "      gender_F  gender_M  \n",
       "7557     False      True  \n",
       "784      False      True  \n",
       "3850     False      True  \n",
       "6325     False      True  \n",
       "6724     False      True  \n",
       "...        ...       ...  \n",
       "3498     False      True  \n",
       "5730     False      True  \n",
       "6663     False      True  \n",
       "2674      True     False  \n",
       "1247     False      True  \n",
       "\n",
       "[2708 rows x 6 columns]"
      ]
     },
     "execution_count": 18,
     "metadata": {},
     "output_type": "execute_result"
    }
   ],
   "source": [
    "X_test"
   ]
  },
  {
   "cell_type": "code",
   "execution_count": 19,
   "metadata": {},
   "outputs": [
    {
     "data": {
      "text/plain": [
       "array(['Bad', 'Bad', 'Good', ..., 'Turtle', 'Turtle', 'Good'],\n",
       "      dtype=object)"
      ]
     },
     "execution_count": 19,
     "metadata": {},
     "output_type": "execute_result"
    }
   ],
   "source": [
    "rf_pred"
   ]
  },
  {
   "cell_type": "code",
   "execution_count": null,
   "metadata": {},
   "outputs": [],
   "source": []
  }
 ],
 "metadata": {
  "kernelspec": {
   "display_name": "py39",
   "language": "python",
   "name": "python3"
  },
  "language_info": {
   "codemirror_mode": {
    "name": "ipython",
    "version": 3
   },
   "file_extension": ".py",
   "mimetype": "text/x-python",
   "name": "python",
   "nbconvert_exporter": "python",
   "pygments_lexer": "ipython3",
   "version": "3.9.18"
  }
 },
 "nbformat": 4,
 "nbformat_minor": 2
}
