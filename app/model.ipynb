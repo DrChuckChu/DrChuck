{
 "cells": [
  {
   "cell_type": "code",
   "execution_count": 16,
   "metadata": {},
   "outputs": [],
   "source": [
    "import numpy as np\n",
    "import pandas as pd\n",
    "import matplotlib.pyplot as plt"
   ]
  },
  {
   "cell_type": "code",
   "execution_count": 17,
   "metadata": {},
   "outputs": [
    {
     "data": {
      "text/html": [
       "<div>\n",
       "<style scoped>\n",
       "    .dataframe tbody tr th:only-of-type {\n",
       "        vertical-align: middle;\n",
       "    }\n",
       "\n",
       "    .dataframe tbody tr th {\n",
       "        vertical-align: top;\n",
       "    }\n",
       "\n",
       "    .dataframe thead th {\n",
       "        text-align: right;\n",
       "    }\n",
       "</style>\n",
       "<table border=\"1\" class=\"dataframe\">\n",
       "  <thead>\n",
       "    <tr style=\"text-align: right;\">\n",
       "      <th></th>\n",
       "      <th>0</th>\n",
       "      <th>1</th>\n",
       "      <th>2</th>\n",
       "      <th>3</th>\n",
       "      <th>4</th>\n",
       "      <th>5</th>\n",
       "    </tr>\n",
       "  </thead>\n",
       "  <tbody>\n",
       "    <tr>\n",
       "      <th>0</th>\n",
       "      <td>2.602562</td>\n",
       "      <td>2.563770</td>\n",
       "      <td>37.098059</td>\n",
       "      <td>185.083765</td>\n",
       "      <td>M</td>\n",
       "      <td>Bad</td>\n",
       "    </tr>\n",
       "    <tr>\n",
       "      <th>1</th>\n",
       "      <td>3.057403</td>\n",
       "      <td>5.110418</td>\n",
       "      <td>74.813240</td>\n",
       "      <td>190.168347</td>\n",
       "      <td>M</td>\n",
       "      <td>Bad</td>\n",
       "    </tr>\n",
       "    <tr>\n",
       "      <th>2</th>\n",
       "      <td>2.571436</td>\n",
       "      <td>2.770216</td>\n",
       "      <td>60.483945</td>\n",
       "      <td>192.010416</td>\n",
       "      <td>M</td>\n",
       "      <td>Bad</td>\n",
       "    </tr>\n",
       "    <tr>\n",
       "      <th>3</th>\n",
       "      <td>3.703299</td>\n",
       "      <td>6.709837</td>\n",
       "      <td>47.163448</td>\n",
       "      <td>191.049732</td>\n",
       "      <td>M</td>\n",
       "      <td>Bad</td>\n",
       "    </tr>\n",
       "    <tr>\n",
       "      <th>4</th>\n",
       "      <td>4.334830</td>\n",
       "      <td>3.814075</td>\n",
       "      <td>66.392621</td>\n",
       "      <td>184.219977</td>\n",
       "      <td>M</td>\n",
       "      <td>Bad</td>\n",
       "    </tr>\n",
       "    <tr>\n",
       "      <th>...</th>\n",
       "      <td>...</td>\n",
       "      <td>...</td>\n",
       "      <td>...</td>\n",
       "      <td>...</td>\n",
       "      <td>...</td>\n",
       "      <td>...</td>\n",
       "    </tr>\n",
       "    <tr>\n",
       "      <th>9568</th>\n",
       "      <td>0.334082</td>\n",
       "      <td>7.507347</td>\n",
       "      <td>38.002269</td>\n",
       "      <td>218.586367</td>\n",
       "      <td>M</td>\n",
       "      <td>Turtle</td>\n",
       "    </tr>\n",
       "    <tr>\n",
       "      <th>9569</th>\n",
       "      <td>3.083660</td>\n",
       "      <td>10.988651</td>\n",
       "      <td>47.903601</td>\n",
       "      <td>177.496479</td>\n",
       "      <td>M</td>\n",
       "      <td>Turtle</td>\n",
       "    </tr>\n",
       "    <tr>\n",
       "      <th>9570</th>\n",
       "      <td>3.083660</td>\n",
       "      <td>10.353320</td>\n",
       "      <td>44.800357</td>\n",
       "      <td>175.513532</td>\n",
       "      <td>M</td>\n",
       "      <td>Turtle</td>\n",
       "    </tr>\n",
       "    <tr>\n",
       "      <th>9571</th>\n",
       "      <td>2.763857</td>\n",
       "      <td>11.976132</td>\n",
       "      <td>42.757102</td>\n",
       "      <td>179.479804</td>\n",
       "      <td>M</td>\n",
       "      <td>Turtle</td>\n",
       "    </tr>\n",
       "    <tr>\n",
       "      <th>9572</th>\n",
       "      <td>3.052883</td>\n",
       "      <td>10.885527</td>\n",
       "      <td>39.570429</td>\n",
       "      <td>181.463495</td>\n",
       "      <td>M</td>\n",
       "      <td>Turtle</td>\n",
       "    </tr>\n",
       "  </tbody>\n",
       "</table>\n",
       "<p>9573 rows × 6 columns</p>\n",
       "</div>"
      ],
      "text/plain": [
       "             0          1          2           3  4       5\n",
       "0     2.602562   2.563770  37.098059  185.083765  M     Bad\n",
       "1     3.057403   5.110418  74.813240  190.168347  M     Bad\n",
       "2     2.571436   2.770216  60.483945  192.010416  M     Bad\n",
       "3     3.703299   6.709837  47.163448  191.049732  M     Bad\n",
       "4     4.334830   3.814075  66.392621  184.219977  M     Bad\n",
       "...        ...        ...        ...         ... ..     ...\n",
       "9568  0.334082   7.507347  38.002269  218.586367  M  Turtle\n",
       "9569  3.083660  10.988651  47.903601  177.496479  M  Turtle\n",
       "9570  3.083660  10.353320  44.800357  175.513532  M  Turtle\n",
       "9571  2.763857  11.976132  42.757102  179.479804  M  Turtle\n",
       "9572  3.052883  10.885527  39.570429  181.463495  M  Turtle\n",
       "\n",
       "[9573 rows x 6 columns]"
      ]
     },
     "execution_count": 17,
     "metadata": {},
     "output_type": "execute_result"
    }
   ],
   "source": [
    "df = pd.read_csv('../data/dataSet.csv', header=None)\n",
    "df"
   ]
  },
  {
   "cell_type": "code",
   "execution_count": 18,
   "metadata": {},
   "outputs": [
    {
     "data": {
      "text/html": [
       "<div>\n",
       "<style scoped>\n",
       "    .dataframe tbody tr th:only-of-type {\n",
       "        vertical-align: middle;\n",
       "    }\n",
       "\n",
       "    .dataframe tbody tr th {\n",
       "        vertical-align: top;\n",
       "    }\n",
       "\n",
       "    .dataframe thead th {\n",
       "        text-align: right;\n",
       "    }\n",
       "</style>\n",
       "<table border=\"1\" class=\"dataframe\">\n",
       "  <thead>\n",
       "    <tr style=\"text-align: right;\">\n",
       "      <th></th>\n",
       "      <th>shoulder_angle_lst</th>\n",
       "      <th>ear_angle_lst</th>\n",
       "      <th>turtle_dis_lst</th>\n",
       "      <th>face_dis_lst</th>\n",
       "      <th>gender</th>\n",
       "      <th>class</th>\n",
       "    </tr>\n",
       "  </thead>\n",
       "  <tbody>\n",
       "    <tr>\n",
       "      <th>0</th>\n",
       "      <td>2.602562</td>\n",
       "      <td>2.563770</td>\n",
       "      <td>37.098059</td>\n",
       "      <td>185.083765</td>\n",
       "      <td>M</td>\n",
       "      <td>Bad</td>\n",
       "    </tr>\n",
       "    <tr>\n",
       "      <th>1</th>\n",
       "      <td>3.057403</td>\n",
       "      <td>5.110418</td>\n",
       "      <td>74.813240</td>\n",
       "      <td>190.168347</td>\n",
       "      <td>M</td>\n",
       "      <td>Bad</td>\n",
       "    </tr>\n",
       "    <tr>\n",
       "      <th>2</th>\n",
       "      <td>2.571436</td>\n",
       "      <td>2.770216</td>\n",
       "      <td>60.483945</td>\n",
       "      <td>192.010416</td>\n",
       "      <td>M</td>\n",
       "      <td>Bad</td>\n",
       "    </tr>\n",
       "    <tr>\n",
       "      <th>3</th>\n",
       "      <td>3.703299</td>\n",
       "      <td>6.709837</td>\n",
       "      <td>47.163448</td>\n",
       "      <td>191.049732</td>\n",
       "      <td>M</td>\n",
       "      <td>Bad</td>\n",
       "    </tr>\n",
       "    <tr>\n",
       "      <th>4</th>\n",
       "      <td>4.334830</td>\n",
       "      <td>3.814075</td>\n",
       "      <td>66.392621</td>\n",
       "      <td>184.219977</td>\n",
       "      <td>M</td>\n",
       "      <td>Bad</td>\n",
       "    </tr>\n",
       "    <tr>\n",
       "      <th>...</th>\n",
       "      <td>...</td>\n",
       "      <td>...</td>\n",
       "      <td>...</td>\n",
       "      <td>...</td>\n",
       "      <td>...</td>\n",
       "      <td>...</td>\n",
       "    </tr>\n",
       "    <tr>\n",
       "      <th>9568</th>\n",
       "      <td>0.334082</td>\n",
       "      <td>7.507347</td>\n",
       "      <td>38.002269</td>\n",
       "      <td>218.586367</td>\n",
       "      <td>M</td>\n",
       "      <td>Turtle</td>\n",
       "    </tr>\n",
       "    <tr>\n",
       "      <th>9569</th>\n",
       "      <td>3.083660</td>\n",
       "      <td>10.988651</td>\n",
       "      <td>47.903601</td>\n",
       "      <td>177.496479</td>\n",
       "      <td>M</td>\n",
       "      <td>Turtle</td>\n",
       "    </tr>\n",
       "    <tr>\n",
       "      <th>9570</th>\n",
       "      <td>3.083660</td>\n",
       "      <td>10.353320</td>\n",
       "      <td>44.800357</td>\n",
       "      <td>175.513532</td>\n",
       "      <td>M</td>\n",
       "      <td>Turtle</td>\n",
       "    </tr>\n",
       "    <tr>\n",
       "      <th>9571</th>\n",
       "      <td>2.763857</td>\n",
       "      <td>11.976132</td>\n",
       "      <td>42.757102</td>\n",
       "      <td>179.479804</td>\n",
       "      <td>M</td>\n",
       "      <td>Turtle</td>\n",
       "    </tr>\n",
       "    <tr>\n",
       "      <th>9572</th>\n",
       "      <td>3.052883</td>\n",
       "      <td>10.885527</td>\n",
       "      <td>39.570429</td>\n",
       "      <td>181.463495</td>\n",
       "      <td>M</td>\n",
       "      <td>Turtle</td>\n",
       "    </tr>\n",
       "  </tbody>\n",
       "</table>\n",
       "<p>9573 rows × 6 columns</p>\n",
       "</div>"
      ],
      "text/plain": [
       "      shoulder_angle_lst  ear_angle_lst  turtle_dis_lst  face_dis_lst gender  \\\n",
       "0               2.602562       2.563770       37.098059    185.083765      M   \n",
       "1               3.057403       5.110418       74.813240    190.168347      M   \n",
       "2               2.571436       2.770216       60.483945    192.010416      M   \n",
       "3               3.703299       6.709837       47.163448    191.049732      M   \n",
       "4               4.334830       3.814075       66.392621    184.219977      M   \n",
       "...                  ...            ...             ...           ...    ...   \n",
       "9568            0.334082       7.507347       38.002269    218.586367      M   \n",
       "9569            3.083660      10.988651       47.903601    177.496479      M   \n",
       "9570            3.083660      10.353320       44.800357    175.513532      M   \n",
       "9571            2.763857      11.976132       42.757102    179.479804      M   \n",
       "9572            3.052883      10.885527       39.570429    181.463495      M   \n",
       "\n",
       "       class  \n",
       "0        Bad  \n",
       "1        Bad  \n",
       "2        Bad  \n",
       "3        Bad  \n",
       "4        Bad  \n",
       "...      ...  \n",
       "9568  Turtle  \n",
       "9569  Turtle  \n",
       "9570  Turtle  \n",
       "9571  Turtle  \n",
       "9572  Turtle  \n",
       "\n",
       "[9573 rows x 6 columns]"
      ]
     },
     "execution_count": 18,
     "metadata": {},
     "output_type": "execute_result"
    }
   ],
   "source": [
    "df.columns=['shoulder_angle_lst', 'ear_angle_lst', 'turtle_dis_lst', 'face_dis_lst', 'gender', 'class']\n",
    "df"
   ]
  },
  {
   "cell_type": "code",
   "execution_count": 19,
   "metadata": {},
   "outputs": [
    {
     "name": "stdout",
     "output_type": "stream",
     "text": [
      "<class 'pandas.core.frame.DataFrame'>\n",
      "RangeIndex: 9573 entries, 0 to 9572\n",
      "Data columns (total 6 columns):\n",
      " #   Column              Non-Null Count  Dtype  \n",
      "---  ------              --------------  -----  \n",
      " 0   shoulder_angle_lst  9573 non-null   float64\n",
      " 1   ear_angle_lst       9573 non-null   float64\n",
      " 2   turtle_dis_lst      9573 non-null   float64\n",
      " 3   face_dis_lst        9573 non-null   float64\n",
      " 4   gender              9573 non-null   object \n",
      " 5   class               9573 non-null   object \n",
      "dtypes: float64(4), object(2)\n",
      "memory usage: 448.9+ KB\n"
     ]
    }
   ],
   "source": [
    "df.info()"
   ]
  },
  {
   "cell_type": "code",
   "execution_count": 20,
   "metadata": {},
   "outputs": [
    {
     "name": "stdout",
     "output_type": "stream",
     "text": [
      "<class 'pandas.core.frame.DataFrame'>\n",
      "RangeIndex: 9573 entries, 0 to 9572\n",
      "Data columns (total 5 columns):\n",
      " #   Column              Non-Null Count  Dtype  \n",
      "---  ------              --------------  -----  \n",
      " 0   shoulder_angle_lst  9573 non-null   float64\n",
      " 1   ear_angle_lst       9573 non-null   float64\n",
      " 2   turtle_dis_lst      9573 non-null   float64\n",
      " 3   face_dis_lst        9573 non-null   float64\n",
      " 4   gender              9573 non-null   object \n",
      "dtypes: float64(4), object(1)\n",
      "memory usage: 374.1+ KB\n",
      "<class 'pandas.core.series.Series'>\n",
      "RangeIndex: 9573 entries, 0 to 9572\n",
      "Series name: class\n",
      "Non-Null Count  Dtype \n",
      "--------------  ----- \n",
      "9573 non-null   object\n",
      "dtypes: object(1)\n",
      "memory usage: 74.9+ KB\n"
     ]
    },
    {
     "data": {
      "text/plain": [
       "(None, None)"
      ]
     },
     "execution_count": 20,
     "metadata": {},
     "output_type": "execute_result"
    }
   ],
   "source": [
    "X = df.iloc[:, :-1]\n",
    "y = df['class']\n",
    "X.info(), y.info()"
   ]
  },
  {
   "cell_type": "code",
   "execution_count": 21,
   "metadata": {},
   "outputs": [
    {
     "data": {
      "text/plain": [
       "((6701, 5), (2872, 5), (6701,), (2872,))"
      ]
     },
     "execution_count": 21,
     "metadata": {},
     "output_type": "execute_result"
    }
   ],
   "source": [
    "from sklearn.model_selection import train_test_split\n",
    "\n",
    "X_train, X_test, y_train, y_test = train_test_split(X, y, test_size=0.3, random_state=123)\n",
    "\n",
    "X_train.shape, X_test.shape, y_train.shape, y_test.shape"
   ]
  },
  {
   "cell_type": "code",
   "execution_count": 22,
   "metadata": {},
   "outputs": [],
   "source": [
    "# one-hot incoding\n",
    "X_train = pd.get_dummies(X_train)\n",
    "X_test = pd.get_dummies(X_test)"
   ]
  },
  {
   "cell_type": "code",
   "execution_count": 23,
   "metadata": {},
   "outputs": [
    {
     "data": {
      "text/plain": [
       "((6701, 6), (2872, 6), (6701,), (2872,))"
      ]
     },
     "execution_count": 23,
     "metadata": {},
     "output_type": "execute_result"
    }
   ],
   "source": [
    "X_train.shape, X_test.shape, y_train.shape, y_test.shape"
   ]
  },
  {
   "cell_type": "markdown",
   "metadata": {},
   "source": [
    "### 스케일링, 모델링"
   ]
  },
  {
   "cell_type": "code",
   "execution_count": 24,
   "metadata": {},
   "outputs": [],
   "source": [
    "from sklearn.pipeline import make_pipeline\n",
    "from sklearn.preprocessing import StandardScaler, MinMaxScaler\n",
    "from sklearn.ensemble import RandomForestClassifier, AdaBoostClassifier\n",
    "from sklearn.linear_model import SGDClassifier\n",
    "from sklearn.metrics import *\n",
    "import pickle"
   ]
  },
  {
   "cell_type": "code",
   "execution_count": 11,
   "metadata": {},
   "outputs": [],
   "source": [
    "pipelines = {\n",
    "    'rf' : make_pipeline(StandardScaler(), RandomForestClassifier()),\n",
    "    'sgd' : make_pipeline(StandardScaler(), SGDClassifier()),\n",
    "    'ada' : make_pipeline(StandardScaler(), AdaBoostClassifier())\n",
    "}"
   ]
  },
  {
   "cell_type": "code",
   "execution_count": 25,
   "metadata": {},
   "outputs": [],
   "source": [
    "pipelines = {\n",
    "    'rf' : make_pipeline(MinMaxScaler(), RandomForestClassifier()),\n",
    "    'sgd' : make_pipeline(MinMaxScaler(), SGDClassifier()),\n",
    "    'ada' : make_pipeline(MinMaxScaler(), AdaBoostClassifier())\n",
    "}"
   ]
  },
  {
   "cell_type": "code",
   "execution_count": 26,
   "metadata": {},
   "outputs": [],
   "source": [
    "fit_model = {}\n",
    "for name, pipeline in pipelines.items():\n",
    "    model = pipeline.fit(X_train, y_train)\n",
    "    fit_model[name] = model"
   ]
  },
  {
   "cell_type": "code",
   "execution_count": 27,
   "metadata": {},
   "outputs": [],
   "source": [
    "rf_pred = fit_model['rf'].predict(X_test)\n",
    "sgd_pred = fit_model['sgd'].predict(X_test)\n",
    "ada_pred = fit_model['ada'].predict(X_test)"
   ]
  },
  {
   "cell_type": "code",
   "execution_count": 28,
   "metadata": {},
   "outputs": [
    {
     "name": "stdout",
     "output_type": "stream",
     "text": [
      "RandomForest\n",
      "               precision    recall  f1-score   support\n",
      "\n",
      "         Bad       0.95      0.89      0.92       973\n",
      "        Good       0.95      0.97      0.96       649\n",
      "      Turtle       0.92      0.96      0.94      1250\n",
      "\n",
      "    accuracy                           0.94      2872\n",
      "   macro avg       0.94      0.94      0.94      2872\n",
      "weighted avg       0.94      0.94      0.94      2872\n",
      " \n",
      " 0.9373259052924791\n"
     ]
    }
   ],
   "source": [
    "# Standard\n",
    "print('RandomForest\\n', classification_report(y_test, rf_pred), '\\n', accuracy_score(y_test, rf_pred))"
   ]
  },
  {
   "cell_type": "code",
   "execution_count": 29,
   "metadata": {},
   "outputs": [
    {
     "name": "stdout",
     "output_type": "stream",
     "text": [
      "RandomForest\n",
      "               precision    recall  f1-score   support\n",
      "\n",
      "         Bad       0.95      0.89      0.92       973\n",
      "        Good       0.95      0.97      0.96       649\n",
      "      Turtle       0.92      0.96      0.94      1250\n",
      "\n",
      "    accuracy                           0.94      2872\n",
      "   macro avg       0.94      0.94      0.94      2872\n",
      "weighted avg       0.94      0.94      0.94      2872\n",
      " \n",
      " 0.9373259052924791\n"
     ]
    }
   ],
   "source": [
    "# MinMax\n",
    "print('RandomForest\\n', classification_report(y_test, rf_pred), '\\n', accuracy_score(y_test, rf_pred))"
   ]
  },
  {
   "cell_type": "code",
   "execution_count": 30,
   "metadata": {},
   "outputs": [
    {
     "name": "stdout",
     "output_type": "stream",
     "text": [
      "SGD\n",
      "               precision    recall  f1-score   support\n",
      "\n",
      "         Bad       0.86      0.67      0.76       973\n",
      "        Good       0.74      0.90      0.81       649\n",
      "      Turtle       0.81      0.86      0.83      1250\n",
      "\n",
      "    accuracy                           0.80      2872\n",
      "   macro avg       0.80      0.81      0.80      2872\n",
      "weighted avg       0.81      0.80      0.80      2872\n",
      " \n",
      " 0.8046657381615598\n"
     ]
    }
   ],
   "source": [
    "# Standard\n",
    "print('SGD\\n', classification_report(y_test, sgd_pred), '\\n', accuracy_score(y_test, sgd_pred))"
   ]
  },
  {
   "cell_type": "code",
   "execution_count": 31,
   "metadata": {},
   "outputs": [
    {
     "name": "stdout",
     "output_type": "stream",
     "text": [
      "SGD\n",
      "               precision    recall  f1-score   support\n",
      "\n",
      "         Bad       0.86      0.67      0.76       973\n",
      "        Good       0.74      0.90      0.81       649\n",
      "      Turtle       0.81      0.86      0.83      1250\n",
      "\n",
      "    accuracy                           0.80      2872\n",
      "   macro avg       0.80      0.81      0.80      2872\n",
      "weighted avg       0.81      0.80      0.80      2872\n",
      " \n",
      " 0.8046657381615598\n"
     ]
    }
   ],
   "source": [
    "# MinMax\n",
    "print('SGD\\n', classification_report(y_test, sgd_pred), '\\n', accuracy_score(y_test, sgd_pred))"
   ]
  },
  {
   "cell_type": "code",
   "execution_count": 16,
   "metadata": {},
   "outputs": [
    {
     "name": "stdout",
     "output_type": "stream",
     "text": [
      "Ada\n",
      "               precision    recall  f1-score   support\n",
      "\n",
      "         Bad       0.86      0.79      0.82       934\n",
      "        Good       0.89      0.93      0.91       656\n",
      "      Turtle       0.83      0.87      0.85      1118\n",
      "\n",
      "    accuracy                           0.86      2708\n",
      "   macro avg       0.86      0.86      0.86      2708\n",
      "weighted avg       0.86      0.86      0.85      2708\n",
      " \n",
      " 0.8552437223042836\n"
     ]
    }
   ],
   "source": [
    "# Standard\n",
    "print('Ada\\n', classification_report(y_test, ada_pred), '\\n', accuracy_score(y_test, ada_pred))"
   ]
  },
  {
   "cell_type": "code",
   "execution_count": 32,
   "metadata": {},
   "outputs": [
    {
     "name": "stdout",
     "output_type": "stream",
     "text": [
      "Ada\n",
      "               precision    recall  f1-score   support\n",
      "\n",
      "         Bad       0.87      0.78      0.83       973\n",
      "        Good       0.87      0.96      0.91       649\n",
      "      Turtle       0.85      0.88      0.87      1250\n",
      "\n",
      "    accuracy                           0.86      2872\n",
      "   macro avg       0.87      0.87      0.87      2872\n",
      "weighted avg       0.86      0.86      0.86      2872\n",
      " \n",
      " 0.8638579387186629\n"
     ]
    }
   ],
   "source": [
    "# MinMax\n",
    "print('Ada\\n', classification_report(y_test, ada_pred), '\\n', accuracy_score(y_test, ada_pred))"
   ]
  },
  {
   "cell_type": "code",
   "execution_count": 33,
   "metadata": {},
   "outputs": [],
   "source": [
    "with open('../models/rf_model2.pkl', 'wb') as f:\n",
    "    pickle.dump(fit_model['rf'], f)\n"
   ]
  },
  {
   "cell_type": "code",
   "execution_count": 34,
   "metadata": {},
   "outputs": [
    {
     "data": {
      "text/html": [
       "<div>\n",
       "<style scoped>\n",
       "    .dataframe tbody tr th:only-of-type {\n",
       "        vertical-align: middle;\n",
       "    }\n",
       "\n",
       "    .dataframe tbody tr th {\n",
       "        vertical-align: top;\n",
       "    }\n",
       "\n",
       "    .dataframe thead th {\n",
       "        text-align: right;\n",
       "    }\n",
       "</style>\n",
       "<table border=\"1\" class=\"dataframe\">\n",
       "  <thead>\n",
       "    <tr style=\"text-align: right;\">\n",
       "      <th></th>\n",
       "      <th>shoulder_angle_lst</th>\n",
       "      <th>ear_angle_lst</th>\n",
       "      <th>turtle_dis_lst</th>\n",
       "      <th>face_dis_lst</th>\n",
       "      <th>gender_F</th>\n",
       "      <th>gender_M</th>\n",
       "    </tr>\n",
       "  </thead>\n",
       "  <tbody>\n",
       "    <tr>\n",
       "      <th>4606</th>\n",
       "      <td>0.186025</td>\n",
       "      <td>5.924582</td>\n",
       "      <td>52.392581</td>\n",
       "      <td>174.232603</td>\n",
       "      <td>False</td>\n",
       "      <td>True</td>\n",
       "    </tr>\n",
       "    <tr>\n",
       "      <th>8567</th>\n",
       "      <td>8.056045</td>\n",
       "      <td>0.415180</td>\n",
       "      <td>6.019999</td>\n",
       "      <td>194.092761</td>\n",
       "      <td>False</td>\n",
       "      <td>True</td>\n",
       "    </tr>\n",
       "    <tr>\n",
       "      <th>7707</th>\n",
       "      <td>9.385518</td>\n",
       "      <td>23.875281</td>\n",
       "      <td>63.599873</td>\n",
       "      <td>128.413395</td>\n",
       "      <td>False</td>\n",
       "      <td>True</td>\n",
       "    </tr>\n",
       "    <tr>\n",
       "      <th>4385</th>\n",
       "      <td>21.399810</td>\n",
       "      <td>53.914927</td>\n",
       "      <td>62.255002</td>\n",
       "      <td>119.230868</td>\n",
       "      <td>False</td>\n",
       "      <td>True</td>\n",
       "    </tr>\n",
       "    <tr>\n",
       "      <th>4459</th>\n",
       "      <td>2.304778</td>\n",
       "      <td>3.094058</td>\n",
       "      <td>63.555356</td>\n",
       "      <td>169.189243</td>\n",
       "      <td>False</td>\n",
       "      <td>True</td>\n",
       "    </tr>\n",
       "    <tr>\n",
       "      <th>...</th>\n",
       "      <td>...</td>\n",
       "      <td>...</td>\n",
       "      <td>...</td>\n",
       "      <td>...</td>\n",
       "      <td>...</td>\n",
       "      <td>...</td>\n",
       "    </tr>\n",
       "    <tr>\n",
       "      <th>8925</th>\n",
       "      <td>3.652223</td>\n",
       "      <td>0.485546</td>\n",
       "      <td>8.705688</td>\n",
       "      <td>178.717654</td>\n",
       "      <td>False</td>\n",
       "      <td>True</td>\n",
       "    </tr>\n",
       "    <tr>\n",
       "      <th>1074</th>\n",
       "      <td>6.340192</td>\n",
       "      <td>8.185036</td>\n",
       "      <td>71.117903</td>\n",
       "      <td>221.415898</td>\n",
       "      <td>False</td>\n",
       "      <td>True</td>\n",
       "    </tr>\n",
       "    <tr>\n",
       "      <th>1085</th>\n",
       "      <td>5.004660</td>\n",
       "      <td>6.473956</td>\n",
       "      <td>73.205719</td>\n",
       "      <td>212.042449</td>\n",
       "      <td>False</td>\n",
       "      <td>True</td>\n",
       "    </tr>\n",
       "    <tr>\n",
       "      <th>4895</th>\n",
       "      <td>0.886861</td>\n",
       "      <td>2.675427</td>\n",
       "      <td>90.419508</td>\n",
       "      <td>167.047897</td>\n",
       "      <td>False</td>\n",
       "      <td>True</td>\n",
       "    </tr>\n",
       "    <tr>\n",
       "      <th>6964</th>\n",
       "      <td>2.130953</td>\n",
       "      <td>8.901716</td>\n",
       "      <td>45.805511</td>\n",
       "      <td>132.098448</td>\n",
       "      <td>False</td>\n",
       "      <td>True</td>\n",
       "    </tr>\n",
       "  </tbody>\n",
       "</table>\n",
       "<p>2872 rows × 6 columns</p>\n",
       "</div>"
      ],
      "text/plain": [
       "      shoulder_angle_lst  ear_angle_lst  turtle_dis_lst  face_dis_lst  \\\n",
       "4606            0.186025       5.924582       52.392581    174.232603   \n",
       "8567            8.056045       0.415180        6.019999    194.092761   \n",
       "7707            9.385518      23.875281       63.599873    128.413395   \n",
       "4385           21.399810      53.914927       62.255002    119.230868   \n",
       "4459            2.304778       3.094058       63.555356    169.189243   \n",
       "...                  ...            ...             ...           ...   \n",
       "8925            3.652223       0.485546        8.705688    178.717654   \n",
       "1074            6.340192       8.185036       71.117903    221.415898   \n",
       "1085            5.004660       6.473956       73.205719    212.042449   \n",
       "4895            0.886861       2.675427       90.419508    167.047897   \n",
       "6964            2.130953       8.901716       45.805511    132.098448   \n",
       "\n",
       "      gender_F  gender_M  \n",
       "4606     False      True  \n",
       "8567     False      True  \n",
       "7707     False      True  \n",
       "4385     False      True  \n",
       "4459     False      True  \n",
       "...        ...       ...  \n",
       "8925     False      True  \n",
       "1074     False      True  \n",
       "1085     False      True  \n",
       "4895     False      True  \n",
       "6964     False      True  \n",
       "\n",
       "[2872 rows x 6 columns]"
      ]
     },
     "execution_count": 34,
     "metadata": {},
     "output_type": "execute_result"
    }
   ],
   "source": [
    "X_test"
   ]
  },
  {
   "cell_type": "code",
   "execution_count": 35,
   "metadata": {},
   "outputs": [
    {
     "data": {
      "text/plain": [
       "array(['Turtle', 'Turtle', 'Bad', ..., 'Good', 'Good', 'Turtle'],\n",
       "      dtype=object)"
      ]
     },
     "execution_count": 35,
     "metadata": {},
     "output_type": "execute_result"
    }
   ],
   "source": [
    "rf_pred"
   ]
  },
  {
   "cell_type": "code",
   "execution_count": null,
   "metadata": {},
   "outputs": [],
   "source": []
  }
 ],
 "metadata": {
  "kernelspec": {
   "display_name": "py39",
   "language": "python",
   "name": "python3"
  },
  "language_info": {
   "codemirror_mode": {
    "name": "ipython",
    "version": 3
   },
   "file_extension": ".py",
   "mimetype": "text/x-python",
   "name": "python",
   "nbconvert_exporter": "python",
   "pygments_lexer": "ipython3",
   "version": "3.9.18"
  }
 },
 "nbformat": 4,
 "nbformat_minor": 2
}
