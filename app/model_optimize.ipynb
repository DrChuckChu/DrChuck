{
 "cells": [
  {
   "cell_type": "code",
   "execution_count": 1,
   "metadata": {},
   "outputs": [],
   "source": [
    "import numpy as np\n",
    "import pandas as pd\n",
    "import matplotlib.pyplot as plt"
   ]
  },
  {
   "cell_type": "code",
   "execution_count": 2,
   "metadata": {},
   "outputs": [
    {
     "data": {
      "text/html": [
       "<div>\n",
       "<style scoped>\n",
       "    .dataframe tbody tr th:only-of-type {\n",
       "        vertical-align: middle;\n",
       "    }\n",
       "\n",
       "    .dataframe tbody tr th {\n",
       "        vertical-align: top;\n",
       "    }\n",
       "\n",
       "    .dataframe thead th {\n",
       "        text-align: right;\n",
       "    }\n",
       "</style>\n",
       "<table border=\"1\" class=\"dataframe\">\n",
       "  <thead>\n",
       "    <tr style=\"text-align: right;\">\n",
       "      <th></th>\n",
       "      <th>0</th>\n",
       "      <th>1</th>\n",
       "      <th>2</th>\n",
       "      <th>3</th>\n",
       "      <th>4</th>\n",
       "      <th>5</th>\n",
       "    </tr>\n",
       "  </thead>\n",
       "  <tbody>\n",
       "    <tr>\n",
       "      <th>0</th>\n",
       "      <td>2.602562</td>\n",
       "      <td>2.563770</td>\n",
       "      <td>37.098059</td>\n",
       "      <td>185.083765</td>\n",
       "      <td>M</td>\n",
       "      <td>Bad</td>\n",
       "    </tr>\n",
       "    <tr>\n",
       "      <th>1</th>\n",
       "      <td>3.057403</td>\n",
       "      <td>5.110418</td>\n",
       "      <td>74.813240</td>\n",
       "      <td>190.168347</td>\n",
       "      <td>M</td>\n",
       "      <td>Bad</td>\n",
       "    </tr>\n",
       "    <tr>\n",
       "      <th>2</th>\n",
       "      <td>2.571436</td>\n",
       "      <td>2.770216</td>\n",
       "      <td>60.483945</td>\n",
       "      <td>192.010416</td>\n",
       "      <td>M</td>\n",
       "      <td>Bad</td>\n",
       "    </tr>\n",
       "    <tr>\n",
       "      <th>3</th>\n",
       "      <td>3.703299</td>\n",
       "      <td>6.709837</td>\n",
       "      <td>47.163448</td>\n",
       "      <td>191.049732</td>\n",
       "      <td>M</td>\n",
       "      <td>Bad</td>\n",
       "    </tr>\n",
       "    <tr>\n",
       "      <th>4</th>\n",
       "      <td>4.334830</td>\n",
       "      <td>3.814075</td>\n",
       "      <td>66.392621</td>\n",
       "      <td>184.219977</td>\n",
       "      <td>M</td>\n",
       "      <td>Bad</td>\n",
       "    </tr>\n",
       "    <tr>\n",
       "      <th>...</th>\n",
       "      <td>...</td>\n",
       "      <td>...</td>\n",
       "      <td>...</td>\n",
       "      <td>...</td>\n",
       "      <td>...</td>\n",
       "      <td>...</td>\n",
       "    </tr>\n",
       "    <tr>\n",
       "      <th>9020</th>\n",
       "      <td>2.445309</td>\n",
       "      <td>1.606003</td>\n",
       "      <td>1.208863</td>\n",
       "      <td>177.634456</td>\n",
       "      <td>M</td>\n",
       "      <td>Turtle</td>\n",
       "    </tr>\n",
       "    <tr>\n",
       "      <th>9021</th>\n",
       "      <td>4.492581</td>\n",
       "      <td>0.550904</td>\n",
       "      <td>3.183047</td>\n",
       "      <td>178.549713</td>\n",
       "      <td>M</td>\n",
       "      <td>Turtle</td>\n",
       "    </tr>\n",
       "    <tr>\n",
       "      <th>9022</th>\n",
       "      <td>2.882963</td>\n",
       "      <td>0.556252</td>\n",
       "      <td>1.638212</td>\n",
       "      <td>179.546651</td>\n",
       "      <td>M</td>\n",
       "      <td>Turtle</td>\n",
       "    </tr>\n",
       "    <tr>\n",
       "      <th>9023</th>\n",
       "      <td>2.480577</td>\n",
       "      <td>0.545658</td>\n",
       "      <td>4.890720</td>\n",
       "      <td>178.549713</td>\n",
       "      <td>M</td>\n",
       "      <td>Turtle</td>\n",
       "    </tr>\n",
       "    <tr>\n",
       "      <th>9024</th>\n",
       "      <td>1.231977</td>\n",
       "      <td>2.181641</td>\n",
       "      <td>4.429083</td>\n",
       "      <td>178.630904</td>\n",
       "      <td>M</td>\n",
       "      <td>Turtle</td>\n",
       "    </tr>\n",
       "  </tbody>\n",
       "</table>\n",
       "<p>9025 rows × 6 columns</p>\n",
       "</div>"
      ],
      "text/plain": [
       "             0         1          2           3  4       5\n",
       "0     2.602562  2.563770  37.098059  185.083765  M     Bad\n",
       "1     3.057403  5.110418  74.813240  190.168347  M     Bad\n",
       "2     2.571436  2.770216  60.483945  192.010416  M     Bad\n",
       "3     3.703299  6.709837  47.163448  191.049732  M     Bad\n",
       "4     4.334830  3.814075  66.392621  184.219977  M     Bad\n",
       "...        ...       ...        ...         ... ..     ...\n",
       "9020  2.445309  1.606003   1.208863  177.634456  M  Turtle\n",
       "9021  4.492581  0.550904   3.183047  178.549713  M  Turtle\n",
       "9022  2.882963  0.556252   1.638212  179.546651  M  Turtle\n",
       "9023  2.480577  0.545658   4.890720  178.549713  M  Turtle\n",
       "9024  1.231977  2.181641   4.429083  178.630904  M  Turtle\n",
       "\n",
       "[9025 rows x 6 columns]"
      ]
     },
     "execution_count": 2,
     "metadata": {},
     "output_type": "execute_result"
    }
   ],
   "source": [
    "df = pd.read_csv('../data/dataSet.csv', header=None)\n",
    "df"
   ]
  },
  {
   "cell_type": "code",
   "execution_count": 3,
   "metadata": {},
   "outputs": [
    {
     "data": {
      "text/html": [
       "<div>\n",
       "<style scoped>\n",
       "    .dataframe tbody tr th:only-of-type {\n",
       "        vertical-align: middle;\n",
       "    }\n",
       "\n",
       "    .dataframe tbody tr th {\n",
       "        vertical-align: top;\n",
       "    }\n",
       "\n",
       "    .dataframe thead th {\n",
       "        text-align: right;\n",
       "    }\n",
       "</style>\n",
       "<table border=\"1\" class=\"dataframe\">\n",
       "  <thead>\n",
       "    <tr style=\"text-align: right;\">\n",
       "      <th></th>\n",
       "      <th>shoulder_angle_lst</th>\n",
       "      <th>ear_angle_lst</th>\n",
       "      <th>turtle_dis_lst</th>\n",
       "      <th>face_dis_lst</th>\n",
       "      <th>gender</th>\n",
       "      <th>class</th>\n",
       "    </tr>\n",
       "  </thead>\n",
       "  <tbody>\n",
       "    <tr>\n",
       "      <th>0</th>\n",
       "      <td>2.602562</td>\n",
       "      <td>2.563770</td>\n",
       "      <td>37.098059</td>\n",
       "      <td>185.083765</td>\n",
       "      <td>M</td>\n",
       "      <td>Bad</td>\n",
       "    </tr>\n",
       "    <tr>\n",
       "      <th>1</th>\n",
       "      <td>3.057403</td>\n",
       "      <td>5.110418</td>\n",
       "      <td>74.813240</td>\n",
       "      <td>190.168347</td>\n",
       "      <td>M</td>\n",
       "      <td>Bad</td>\n",
       "    </tr>\n",
       "    <tr>\n",
       "      <th>2</th>\n",
       "      <td>2.571436</td>\n",
       "      <td>2.770216</td>\n",
       "      <td>60.483945</td>\n",
       "      <td>192.010416</td>\n",
       "      <td>M</td>\n",
       "      <td>Bad</td>\n",
       "    </tr>\n",
       "    <tr>\n",
       "      <th>3</th>\n",
       "      <td>3.703299</td>\n",
       "      <td>6.709837</td>\n",
       "      <td>47.163448</td>\n",
       "      <td>191.049732</td>\n",
       "      <td>M</td>\n",
       "      <td>Bad</td>\n",
       "    </tr>\n",
       "    <tr>\n",
       "      <th>4</th>\n",
       "      <td>4.334830</td>\n",
       "      <td>3.814075</td>\n",
       "      <td>66.392621</td>\n",
       "      <td>184.219977</td>\n",
       "      <td>M</td>\n",
       "      <td>Bad</td>\n",
       "    </tr>\n",
       "    <tr>\n",
       "      <th>...</th>\n",
       "      <td>...</td>\n",
       "      <td>...</td>\n",
       "      <td>...</td>\n",
       "      <td>...</td>\n",
       "      <td>...</td>\n",
       "      <td>...</td>\n",
       "    </tr>\n",
       "    <tr>\n",
       "      <th>9020</th>\n",
       "      <td>2.445309</td>\n",
       "      <td>1.606003</td>\n",
       "      <td>1.208863</td>\n",
       "      <td>177.634456</td>\n",
       "      <td>M</td>\n",
       "      <td>Turtle</td>\n",
       "    </tr>\n",
       "    <tr>\n",
       "      <th>9021</th>\n",
       "      <td>4.492581</td>\n",
       "      <td>0.550904</td>\n",
       "      <td>3.183047</td>\n",
       "      <td>178.549713</td>\n",
       "      <td>M</td>\n",
       "      <td>Turtle</td>\n",
       "    </tr>\n",
       "    <tr>\n",
       "      <th>9022</th>\n",
       "      <td>2.882963</td>\n",
       "      <td>0.556252</td>\n",
       "      <td>1.638212</td>\n",
       "      <td>179.546651</td>\n",
       "      <td>M</td>\n",
       "      <td>Turtle</td>\n",
       "    </tr>\n",
       "    <tr>\n",
       "      <th>9023</th>\n",
       "      <td>2.480577</td>\n",
       "      <td>0.545658</td>\n",
       "      <td>4.890720</td>\n",
       "      <td>178.549713</td>\n",
       "      <td>M</td>\n",
       "      <td>Turtle</td>\n",
       "    </tr>\n",
       "    <tr>\n",
       "      <th>9024</th>\n",
       "      <td>1.231977</td>\n",
       "      <td>2.181641</td>\n",
       "      <td>4.429083</td>\n",
       "      <td>178.630904</td>\n",
       "      <td>M</td>\n",
       "      <td>Turtle</td>\n",
       "    </tr>\n",
       "  </tbody>\n",
       "</table>\n",
       "<p>9025 rows × 6 columns</p>\n",
       "</div>"
      ],
      "text/plain": [
       "      shoulder_angle_lst  ear_angle_lst  turtle_dis_lst  face_dis_lst gender  \\\n",
       "0               2.602562       2.563770       37.098059    185.083765      M   \n",
       "1               3.057403       5.110418       74.813240    190.168347      M   \n",
       "2               2.571436       2.770216       60.483945    192.010416      M   \n",
       "3               3.703299       6.709837       47.163448    191.049732      M   \n",
       "4               4.334830       3.814075       66.392621    184.219977      M   \n",
       "...                  ...            ...             ...           ...    ...   \n",
       "9020            2.445309       1.606003        1.208863    177.634456      M   \n",
       "9021            4.492581       0.550904        3.183047    178.549713      M   \n",
       "9022            2.882963       0.556252        1.638212    179.546651      M   \n",
       "9023            2.480577       0.545658        4.890720    178.549713      M   \n",
       "9024            1.231977       2.181641        4.429083    178.630904      M   \n",
       "\n",
       "       class  \n",
       "0        Bad  \n",
       "1        Bad  \n",
       "2        Bad  \n",
       "3        Bad  \n",
       "4        Bad  \n",
       "...      ...  \n",
       "9020  Turtle  \n",
       "9021  Turtle  \n",
       "9022  Turtle  \n",
       "9023  Turtle  \n",
       "9024  Turtle  \n",
       "\n",
       "[9025 rows x 6 columns]"
      ]
     },
     "execution_count": 3,
     "metadata": {},
     "output_type": "execute_result"
    }
   ],
   "source": [
    "df.columns=['shoulder_angle_lst', 'ear_angle_lst', 'turtle_dis_lst', 'face_dis_lst', 'gender', 'class']\n",
    "df"
   ]
  },
  {
   "cell_type": "code",
   "execution_count": 4,
   "metadata": {},
   "outputs": [
    {
     "name": "stdout",
     "output_type": "stream",
     "text": [
      "<class 'pandas.core.frame.DataFrame'>\n",
      "RangeIndex: 9025 entries, 0 to 9024\n",
      "Data columns (total 6 columns):\n",
      " #   Column              Non-Null Count  Dtype  \n",
      "---  ------              --------------  -----  \n",
      " 0   shoulder_angle_lst  9025 non-null   float64\n",
      " 1   ear_angle_lst       9025 non-null   float64\n",
      " 2   turtle_dis_lst      9025 non-null   float64\n",
      " 3   face_dis_lst        9025 non-null   float64\n",
      " 4   gender              9025 non-null   object \n",
      " 5   class               9025 non-null   object \n",
      "dtypes: float64(4), object(2)\n",
      "memory usage: 423.2+ KB\n"
     ]
    }
   ],
   "source": [
    "df.info()"
   ]
  },
  {
   "cell_type": "code",
   "execution_count": 5,
   "metadata": {},
   "outputs": [
    {
     "name": "stdout",
     "output_type": "stream",
     "text": [
      "<class 'pandas.core.frame.DataFrame'>\n",
      "RangeIndex: 9025 entries, 0 to 9024\n",
      "Data columns (total 5 columns):\n",
      " #   Column              Non-Null Count  Dtype  \n",
      "---  ------              --------------  -----  \n",
      " 0   shoulder_angle_lst  9025 non-null   float64\n",
      " 1   ear_angle_lst       9025 non-null   float64\n",
      " 2   turtle_dis_lst      9025 non-null   float64\n",
      " 3   face_dis_lst        9025 non-null   float64\n",
      " 4   gender              9025 non-null   object \n",
      "dtypes: float64(4), object(1)\n",
      "memory usage: 352.7+ KB\n",
      "<class 'pandas.core.series.Series'>\n",
      "RangeIndex: 9025 entries, 0 to 9024\n",
      "Series name: class\n",
      "Non-Null Count  Dtype \n",
      "--------------  ----- \n",
      "9025 non-null   object\n",
      "dtypes: object(1)\n",
      "memory usage: 70.6+ KB\n"
     ]
    },
    {
     "data": {
      "text/plain": [
       "(None, None)"
      ]
     },
     "execution_count": 5,
     "metadata": {},
     "output_type": "execute_result"
    }
   ],
   "source": [
    "X = df.iloc[:, :-1]\n",
    "y = df['class']\n",
    "X.info(), y.info()"
   ]
  },
  {
   "cell_type": "code",
   "execution_count": 6,
   "metadata": {},
   "outputs": [
    {
     "data": {
      "text/plain": [
       "((6317, 5), (2708, 5), (6317,), (2708,))"
      ]
     },
     "execution_count": 6,
     "metadata": {},
     "output_type": "execute_result"
    }
   ],
   "source": [
    "from sklearn.model_selection import train_test_split\n",
    "\n",
    "X_train, X_test, y_train, y_test = train_test_split(X, y, test_size=0.3, random_state=123)\n",
    "\n",
    "X_train.shape, X_test.shape, y_train.shape, y_test.shape"
   ]
  },
  {
   "cell_type": "code",
   "execution_count": 27,
   "metadata": {},
   "outputs": [
    {
     "name": "stdout",
     "output_type": "stream",
     "text": [
      "Index(['shoulder_angle_lst', 'ear_angle_lst', 'turtle_dis_lst', 'face_dis_lst',\n",
      "       'gender_F', 'gender_M'],\n",
      "      dtype='object')\n"
     ]
    }
   ],
   "source": [
    "# one-hot incoding\n",
    "X_train = pd.get_dummies(X_train)\n",
    "X_test = pd.get_dummies(X_test)\n",
    "print(X_train.columns)"
   ]
  },
  {
   "cell_type": "code",
   "execution_count": 8,
   "metadata": {},
   "outputs": [
    {
     "data": {
      "text/plain": [
       "((6317, 6), (2708, 6), (6317,), (2708,))"
      ]
     },
     "execution_count": 8,
     "metadata": {},
     "output_type": "execute_result"
    }
   ],
   "source": [
    "X_train.shape, X_test.shape, y_train.shape, y_test.shape"
   ]
  },
  {
   "cell_type": "markdown",
   "metadata": {},
   "source": [
    "### 스케일링, 모델링, 하이퍼파라미터 수정"
   ]
  },
  {
   "cell_type": "code",
   "execution_count": 12,
   "metadata": {},
   "outputs": [],
   "source": [
    "from sklearn.pipeline import make_pipeline\n",
    "from sklearn.preprocessing import StandardScaler, MinMaxScaler\n",
    "from sklearn.ensemble import RandomForestClassifier, AdaBoostClassifier\n",
    "from sklearn.linear_model import SGDClassifier\n",
    "from sklearn.metrics import *\n",
    "import pickle\n",
    "from sklearn.model_selection import GridSearchCV"
   ]
  },
  {
   "cell_type": "code",
   "execution_count": 28,
   "metadata": {},
   "outputs": [],
   "source": [
    "# scaling\n",
    "num_cols = ['shoulder_angle_lst', 'ear_angle_lst', 'turtle_dis_lst', 'face_dis_lst']\n",
    "scaler = MinMaxScaler()\n",
    "scaler.fit(X_train[num_cols])\n",
    "X_train[num_cols] = scaler.transform(X_train[num_cols])\n",
    "X_test[num_cols] = scaler.transform(X_test[num_cols])"
   ]
  },
  {
   "cell_type": "code",
   "execution_count": 25,
   "metadata": {},
   "outputs": [
    {
     "data": {
      "text/plain": [
       "(2708, 6)"
      ]
     },
     "execution_count": 25,
     "metadata": {},
     "output_type": "execute_result"
    }
   ],
   "source": [
    "X_test_sca.shape"
   ]
  },
  {
   "cell_type": "code",
   "execution_count": 29,
   "metadata": {},
   "outputs": [],
   "source": [
    "model_rf5 = RandomForestClassifier(max_depth=30, max_features=0.7, min_samples_leaf=2, min_samples_split=2, n_estimators=600, random_state=123)"
   ]
  },
  {
   "cell_type": "code",
   "execution_count": 14,
   "metadata": {},
   "outputs": [],
   "source": [
    "model_rf = RandomForestClassifier(random_state=123, n_jobs=-1)"
   ]
  },
  {
   "cell_type": "code",
   "execution_count": null,
   "metadata": {},
   "outputs": [],
   "source": [
    "params_rf = {'max_depth' : range(24, 33, 2),\n",
    "             'min_samples_split' : range(2, 4),\n",
    "             'n_estimators' : range(550, 651, 50),\n",
    "             'max_features' : [0.7, 0.8],\n",
    "             'min_samples_leaf' : range(2, 4)\n",
    "            }\n",
    "grid_rf = GridSearchCV(model_rf, param_grid=params_rf, cv=5, verbose=2)\n",
    "grid_rf.fit(X_train, y_train)\n",
    "# print(grid_rf.best_params_)\n",
    "# print(grid_rf.best_score_)\n",
    "final_rf = grid_rf.best_estimator_\n",
    "final_rf.fit(X_train, y_train)\n",
    "rf_pred = final_rf.predict(X_test)\n",
    "# print('RandomForest\\n', classification_report(y_test, rf_pred), '\\n', accuracy_score(y_test, rf_pred))\n",
    "with open('../models/rf_model_opt5.pkl', 'wb') as f:\n",
    "    pickle.dump(final_rf, f)\n"
   ]
  },
  {
   "cell_type": "code",
   "execution_count": 19,
   "metadata": {},
   "outputs": [
    {
     "name": "stdout",
     "output_type": "stream",
     "text": [
      "{'max_depth': 24, 'max_features': 0.7, 'min_samples_leaf': 2, 'min_samples_split': 2, 'n_estimators': 600}\n",
      "0.9241705252713551\n"
     ]
    }
   ],
   "source": [
    "print(grid_rf.best_params_)\n",
    "print(grid_rf.best_score_)"
   ]
  },
  {
   "cell_type": "code",
   "execution_count": 31,
   "metadata": {},
   "outputs": [],
   "source": [
    "# 스케일링된 모델\n",
    "model_rf5.fit(X_train, y_train)\n",
    "rf_pred = model_rf5.predict(X_test)"
   ]
  },
  {
   "cell_type": "code",
   "execution_count": 32,
   "metadata": {},
   "outputs": [
    {
     "name": "stdout",
     "output_type": "stream",
     "text": [
      "RandomForest\n",
      "               precision    recall  f1-score   support\n",
      "\n",
      "         Bad       0.94      0.90      0.92       934\n",
      "        Good       0.95      0.97      0.96       656\n",
      "      Turtle       0.93      0.95      0.94      1118\n",
      "\n",
      "    accuracy                           0.94      2708\n",
      "   macro avg       0.94      0.94      0.94      2708\n",
      "weighted avg       0.94      0.94      0.94      2708\n",
      " \n",
      " 0.9375923190546529\n"
     ]
    }
   ],
   "source": [
    "print('RandomForest\\n', classification_report(y_test, rf_pred), '\\n', accuracy_score(y_test, rf_pred))"
   ]
  },
  {
   "cell_type": "code",
   "execution_count": 33,
   "metadata": {},
   "outputs": [],
   "source": [
    "with open('../models/rf_model_opt5.pkl', 'wb') as f:\n",
    "    pickle.dump(model_rf5, f)\n"
   ]
  },
  {
   "cell_type": "markdown",
   "metadata": {},
   "source": [
    "### opt2\n",
    "{'max_depth': 25, 'max_features': 0.7, 'min_samples_leaf': 5, 'min_samples_split': 2, 'n_estimators': 250}\n",
    "\n",
    "0.9178381540836064\n",
    "\n",
    "RandomForest\n",
    "\n",
    "               precision    recall  f1-score   support\n",
    "\n",
    "         Bad       0.94      0.90      0.92       934\n",
    "        Good       0.94      0.96      0.95       656\n",
    "      Turtle       0.93      0.94      0.93      1118\n",
    "\n",
    "    accuracy                           0.93      2708\n",
    "   macro avg       0.93      0.94      0.93      2708\n",
    "weighted avg       0.93      0.93      0.93      2708\n",
    " \n",
    " 0.9327917282127031"
   ]
  },
  {
   "cell_type": "markdown",
   "metadata": {},
   "source": [
    "### op3\n",
    "{'max_depth': 21, 'max_features': 0.7, 'min_samples_leaf': 3, 'min_samples_split': 2, 'n_estimators': 275}\n",
    "\n",
    "0.9221119346141897\n",
    "\n",
    "RandomForest\n",
    "\n",
    "               precision    recall  f1-score   support\n",
    "\n",
    "         Bad       0.94      0.90      0.92       934\n",
    "        Good       0.94      0.96      0.95       656\n",
    "      Turtle       0.93      0.95      0.94      1118\n",
    "\n",
    "    accuracy                           0.94      2708\n",
    "   macro avg       0.94      0.94      0.94      2708\n",
    "weighted avg       0.94      0.94      0.94      2708\n",
    " \n",
    " 0.9353766617429837"
   ]
  },
  {
   "cell_type": "markdown",
   "metadata": {},
   "source": [
    "### opt4\n",
    "{'max_depth': 22, 'max_features': 0.7, 'min_samples_leaf': 2, 'min_samples_split': 2, 'n_estimators': 280}\n",
    "\n",
    "0.9236948394920672\n",
    "\n",
    "RandomForest\n",
    "               precision    recall  f1-score   support\n",
    "\n",
    "         Bad       0.94      0.90      0.92       934\n",
    "        Good       0.95      0.96      0.96       656\n",
    "      Turtle       0.93      0.95      0.94      1118\n",
    "\n",
    "    accuracy                           0.94      2708\n",
    "   macro avg       0.94      0.94      0.94      2708\n",
    "weighted avg       0.94      0.94      0.94      2708\n",
    " \n",
    " 0.9361152141802068"
   ]
  },
  {
   "cell_type": "markdown",
   "metadata": {},
   "source": [
    "### opt5\n",
    "{'max_depth': 30, 'max_features': 0.7, 'min_samples_leaf': 2, 'min_samples_split': 2, 'n_estimators': 600}\n",
    "\n",
    "0.9241705252713551\n",
    "RandomForest\n",
    "               precision    recall  f1-score   support\n",
    "\n",
    "         Bad       0.94      0.90      0.92       934\n",
    "        Good       0.95      0.97      0.96       656\n",
    "      Turtle       0.93      0.95      0.94      1118\n",
    "\n",
    "    accuracy                           0.94      2708\n",
    "   macro avg       0.94      0.94      0.94      2708\n",
    "weighted avg       0.94      0.94      0.94      2708\n",
    " \n",
    " 0.9375923190546529"
   ]
  },
  {
   "cell_type": "markdown",
   "metadata": {},
   "source": [
    "opt1 < opt2 < opt3 < opt4 < opt5"
   ]
  }
 ],
 "metadata": {
  "kernelspec": {
   "display_name": "mmcv",
   "language": "python",
   "name": "python3"
  },
  "language_info": {
   "codemirror_mode": {
    "name": "ipython",
    "version": 3
   },
   "file_extension": ".py",
   "mimetype": "text/x-python",
   "name": "python",
   "nbconvert_exporter": "python",
   "pygments_lexer": "ipython3",
   "version": "3.9.18"
  }
 },
 "nbformat": 4,
 "nbformat_minor": 2
}
